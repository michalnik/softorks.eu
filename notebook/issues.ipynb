{
 "cells": [
  {
   "cell_type": "code",
   "execution_count": 18,
   "id": "ae6e5b7a-66e1-4d6f-ae2f-5ef0462252cd",
   "metadata": {},
   "outputs": [],
   "source": [
    "import typing\n",
    "import httpx\n",
    "from pydantic import BaseModel\n",
    "\n",
    "\n",
    "class GithubIssue(BaseModel):\n",
    "    title: str\n",
    "    issue_url: str\n",
    "\n",
    "\n",
    "USERNAME = \"michalnik\"\n",
    "GITHUB_API = \"https://api.github.com\"\n",
    "\n",
    "\n",
    "def get_github_issues(api: str, username: str) -> typing.Iterable[GithubIssue]:\n",
    "    search_url = f\"{api}/search/issues\"\n",
    "    query_params = {\"q\": f\"commenter:{username}\", \"sort\": \"created\", \"order\": \"desc\"}\n",
    "    response = httpx.get(search_url, params=query_params, follow_redirects=True)\n",
    "    try:\n",
    "        for item in response.json()[\"items\"]:\n",
    "            yield GithubIssue(title=item[\"title\"], issue_url= item[\"html_url\"])\n",
    "    except Exception as exc:\n",
    "        print(f\"Something bad happened while reading data from github: {type(exc)} => {exc.args}\")\n",
    "        raise SystemError(\"Going down...\")"
   ]
  },
  {
   "cell_type": "code",
   "execution_count": 19,
   "id": "80724185-754d-4552-a8e4-9a778c8450fa",
   "metadata": {},
   "outputs": [
    {
     "data": {
      "text/html": [
       "<pre style=\"white-space:pre;overflow-x:auto;line-height:normal;font-family:Menlo,'DejaVu Sans Mono',consolas,'Courier New',monospace\"><span style=\"font-weight: bold\">[</span>\n",
       "    <span style=\"color: #800080; text-decoration-color: #800080; font-weight: bold\">GithubIssue</span><span style=\"font-weight: bold\">(</span><span style=\"color: #808000; text-decoration-color: #808000\">title</span>=<span style=\"color: #008000; text-decoration-color: #008000\">'Migrate to python3.13'</span>, <span style=\"color: #808000; text-decoration-color: #808000\">issue_url</span>=<span style=\"color: #008000; text-decoration-color: #008000\">'https://github.com/michalnik/softorks.eu/issues/6'</span><span style=\"font-weight: bold\">)</span>,\n",
       "    <span style=\"color: #800080; text-decoration-color: #800080; font-weight: bold\">GithubIssue</span><span style=\"font-weight: bold\">(</span><span style=\"color: #808000; text-decoration-color: #808000\">title</span>=<span style=\"color: #008000; text-decoration-color: #008000\">'Add section of references'</span>, <span style=\"color: #808000; text-decoration-color: #808000\">issue_url</span>=<span style=\"color: #008000; text-decoration-color: #008000\">'https://github.com/michalnik/softorks.eu/issues/5'</span><span style=\"font-weight: bold\">)</span>,\n",
       "    <span style=\"color: #800080; text-decoration-color: #800080; font-weight: bold\">GithubIssue</span><span style=\"font-weight: bold\">(</span>\n",
       "        <span style=\"color: #808000; text-decoration-color: #808000\">title</span>=<span style=\"color: #008000; text-decoration-color: #008000\">'python package missing fields'</span>,\n",
       "        <span style=\"color: #808000; text-decoration-color: #808000\">issue_url</span>=<span style=\"color: #008000; text-decoration-color: #008000\">'https://github.com/michalnik/route-planner/issues/1'</span>\n",
       "    <span style=\"font-weight: bold\">)</span>,\n",
       "    <span style=\"color: #800080; text-decoration-color: #800080; font-weight: bold\">GithubIssue</span><span style=\"font-weight: bold\">(</span><span style=\"color: #808000; text-decoration-color: #808000\">title</span>=<span style=\"color: #008000; text-decoration-color: #008000\">'Enable protocol HTTP2'</span>, <span style=\"color: #808000; text-decoration-color: #808000\">issue_url</span>=<span style=\"color: #008000; text-decoration-color: #008000\">'https://github.com/michalnik/softorks.eu/issues/2'</span><span style=\"font-weight: bold\">)</span>,\n",
       "    <span style=\"color: #800080; text-decoration-color: #800080; font-weight: bold\">GithubIssue</span><span style=\"font-weight: bold\">(</span>\n",
       "        <span style=\"color: #808000; text-decoration-color: #808000\">title</span>=<span style=\"color: #008000; text-decoration-color: #008000\">'[BUG] Unable to retrieve media file from URL in development'</span>,\n",
       "        <span style=\"color: #808000; text-decoration-color: #808000\">issue_url</span>=<span style=\"color: #008000; text-decoration-color: #008000\">'https://github.com/vitalik/django-ninja/issues/1417'</span>\n",
       "    <span style=\"font-weight: bold\">)</span>,\n",
       "    <span style=\"color: #800080; text-decoration-color: #800080; font-weight: bold\">GithubIssue</span><span style=\"font-weight: bold\">(</span>\n",
       "        <span style=\"color: #808000; text-decoration-color: #808000\">title</span>=<span style=\"color: #008000; text-decoration-color: #008000\">'[BUG] Data is not present on GET request after successful POST request.'</span>,\n",
       "        <span style=\"color: #808000; text-decoration-color: #808000\">issue_url</span>=<span style=\"color: #008000; text-decoration-color: #008000\">'https://github.com/vitalik/django-ninja/issues/1411'</span>\n",
       "    <span style=\"font-weight: bold\">)</span>,\n",
       "    <span style=\"color: #800080; text-decoration-color: #800080; font-weight: bold\">GithubIssue</span><span style=\"font-weight: bold\">(</span>\n",
       "        <span style=\"color: #808000; text-decoration-color: #808000\">title</span>=<span style=\"color: #008000; text-decoration-color: #008000\">'listing git files failed on git repo'</span>,\n",
       "        <span style=\"color: #808000; text-decoration-color: #808000\">issue_url</span>=<span style=\"color: #008000; text-decoration-color: #008000\">'https://github.com/pypa/setuptools-scm/issues/997'</span>\n",
       "    <span style=\"font-weight: bold\">)</span>,\n",
       "    <span style=\"color: #800080; text-decoration-color: #800080; font-weight: bold\">GithubIssue</span><span style=\"font-weight: bold\">(</span>\n",
       "        <span style=\"color: #808000; text-decoration-color: #808000\">title</span>=<span style=\"color: #008000; text-decoration-color: #008000\">'optional argument --bootstrap with value no install djangocms-bootstrap4'</span>,\n",
       "        <span style=\"color: #808000; text-decoration-color: #808000\">issue_url</span>=<span style=\"color: #008000; text-decoration-color: #008000\">'https://github.com/nephila/djangocms-installer/issues/392'</span>\n",
       "    <span style=\"font-weight: bold\">)</span>,\n",
       "    <span style=\"color: #800080; text-decoration-color: #800080; font-weight: bold\">GithubIssue</span><span style=\"font-weight: bold\">(</span><span style=\"color: #808000; text-decoration-color: #808000\">title</span>=<span style=\"color: #008000; text-decoration-color: #008000\">'[BUG]'</span>, <span style=\"color: #808000; text-decoration-color: #808000\">issue_url</span>=<span style=\"color: #008000; text-decoration-color: #008000\">'https://github.com/django-cms/django-cms/issues/7258'</span><span style=\"font-weight: bold\">)</span>,\n",
       "    <span style=\"color: #800080; text-decoration-color: #800080; font-weight: bold\">GithubIssue</span><span style=\"font-weight: bold\">(</span><span style=\"color: #808000; text-decoration-color: #808000\">title</span>=<span style=\"color: #008000; text-decoration-color: #008000\">'GLIBC_2.27 not supported'</span>, <span style=\"color: #808000; text-decoration-color: #808000\">issue_url</span>=<span style=\"color: #008000; text-decoration-color: #008000\">'https://github.com/atom/atom/issues/18170'</span><span style=\"font-weight: bold\">)</span>,\n",
       "    <span style=\"color: #800080; text-decoration-color: #800080; font-weight: bold\">GithubIssue</span><span style=\"font-weight: bold\">(</span>\n",
       "        <span style=\"color: #808000; text-decoration-color: #808000\">title</span>=<span style=\"color: #008000; text-decoration-color: #008000\">'Curl https issue ssl3_get_record when behind proxy'</span>,\n",
       "        <span style=\"color: #808000; text-decoration-color: #808000\">issue_url</span>=<span style=\"color: #008000; text-decoration-color: #008000\">'https://github.com/curl/curl/issues/2324'</span>\n",
       "    <span style=\"font-weight: bold\">)</span>,\n",
       "    <span style=\"color: #800080; text-decoration-color: #800080; font-weight: bold\">GithubIssue</span><span style=\"font-weight: bold\">(</span>\n",
       "        <span style=\"color: #808000; text-decoration-color: #808000\">title</span>=<span style=\"color: #008000; text-decoration-color: #008000\">'\"login with google\" silently fails, no login occurs'</span>,\n",
       "        <span style=\"color: #808000; text-decoration-color: #808000\">issue_url</span>=<span style=\"color: #008000; text-decoration-color: #008000\">'https://github.com/pypi/legacy/issues/492'</span>\n",
       "    <span style=\"font-weight: bold\">)</span>\n",
       "<span style=\"font-weight: bold\">]</span>\n",
       "</pre>\n"
      ],
      "text/plain": [
       "\u001b[1m[\u001b[0m\n",
       "    \u001b[1;35mGithubIssue\u001b[0m\u001b[1m(\u001b[0m\u001b[33mtitle\u001b[0m=\u001b[32m'Migrate to python3.13'\u001b[0m, \u001b[33missue_url\u001b[0m=\u001b[32m'https://github.com/michalnik/softorks.eu/issues/6'\u001b[0m\u001b[1m)\u001b[0m,\n",
       "    \u001b[1;35mGithubIssue\u001b[0m\u001b[1m(\u001b[0m\u001b[33mtitle\u001b[0m=\u001b[32m'Add section of references'\u001b[0m, \u001b[33missue_url\u001b[0m=\u001b[32m'https://github.com/michalnik/softorks.eu/issues/5'\u001b[0m\u001b[1m)\u001b[0m,\n",
       "    \u001b[1;35mGithubIssue\u001b[0m\u001b[1m(\u001b[0m\n",
       "        \u001b[33mtitle\u001b[0m=\u001b[32m'python package missing fields'\u001b[0m,\n",
       "        \u001b[33missue_url\u001b[0m=\u001b[32m'https://github.com/michalnik/route-planner/issues/1'\u001b[0m\n",
       "    \u001b[1m)\u001b[0m,\n",
       "    \u001b[1;35mGithubIssue\u001b[0m\u001b[1m(\u001b[0m\u001b[33mtitle\u001b[0m=\u001b[32m'Enable protocol HTTP2'\u001b[0m, \u001b[33missue_url\u001b[0m=\u001b[32m'https://github.com/michalnik/softorks.eu/issues/2'\u001b[0m\u001b[1m)\u001b[0m,\n",
       "    \u001b[1;35mGithubIssue\u001b[0m\u001b[1m(\u001b[0m\n",
       "        \u001b[33mtitle\u001b[0m=\u001b[32m'\u001b[0m\u001b[32m[\u001b[0m\u001b[32mBUG\u001b[0m\u001b[32m]\u001b[0m\u001b[32m Unable to retrieve media file from URL in development'\u001b[0m,\n",
       "        \u001b[33missue_url\u001b[0m=\u001b[32m'https://github.com/vitalik/django-ninja/issues/1417'\u001b[0m\n",
       "    \u001b[1m)\u001b[0m,\n",
       "    \u001b[1;35mGithubIssue\u001b[0m\u001b[1m(\u001b[0m\n",
       "        \u001b[33mtitle\u001b[0m=\u001b[32m'\u001b[0m\u001b[32m[\u001b[0m\u001b[32mBUG\u001b[0m\u001b[32m]\u001b[0m\u001b[32m Data is not present on GET request after successful POST request.'\u001b[0m,\n",
       "        \u001b[33missue_url\u001b[0m=\u001b[32m'https://github.com/vitalik/django-ninja/issues/1411'\u001b[0m\n",
       "    \u001b[1m)\u001b[0m,\n",
       "    \u001b[1;35mGithubIssue\u001b[0m\u001b[1m(\u001b[0m\n",
       "        \u001b[33mtitle\u001b[0m=\u001b[32m'listing git files failed on git repo'\u001b[0m,\n",
       "        \u001b[33missue_url\u001b[0m=\u001b[32m'https://github.com/pypa/setuptools-scm/issues/997'\u001b[0m\n",
       "    \u001b[1m)\u001b[0m,\n",
       "    \u001b[1;35mGithubIssue\u001b[0m\u001b[1m(\u001b[0m\n",
       "        \u001b[33mtitle\u001b[0m=\u001b[32m'optional argument --bootstrap with value no install djangocms-bootstrap4'\u001b[0m,\n",
       "        \u001b[33missue_url\u001b[0m=\u001b[32m'https://github.com/nephila/djangocms-installer/issues/392'\u001b[0m\n",
       "    \u001b[1m)\u001b[0m,\n",
       "    \u001b[1;35mGithubIssue\u001b[0m\u001b[1m(\u001b[0m\u001b[33mtitle\u001b[0m=\u001b[32m'\u001b[0m\u001b[32m[\u001b[0m\u001b[32mBUG\u001b[0m\u001b[32m]\u001b[0m\u001b[32m'\u001b[0m, \u001b[33missue_url\u001b[0m=\u001b[32m'https://github.com/django-cms/django-cms/issues/7258'\u001b[0m\u001b[1m)\u001b[0m,\n",
       "    \u001b[1;35mGithubIssue\u001b[0m\u001b[1m(\u001b[0m\u001b[33mtitle\u001b[0m=\u001b[32m'GLIBC_2.27 not supported'\u001b[0m, \u001b[33missue_url\u001b[0m=\u001b[32m'https://github.com/atom/atom/issues/18170'\u001b[0m\u001b[1m)\u001b[0m,\n",
       "    \u001b[1;35mGithubIssue\u001b[0m\u001b[1m(\u001b[0m\n",
       "        \u001b[33mtitle\u001b[0m=\u001b[32m'Curl https issue ssl3_get_record when behind proxy'\u001b[0m,\n",
       "        \u001b[33missue_url\u001b[0m=\u001b[32m'https://github.com/curl/curl/issues/2324'\u001b[0m\n",
       "    \u001b[1m)\u001b[0m,\n",
       "    \u001b[1;35mGithubIssue\u001b[0m\u001b[1m(\u001b[0m\n",
       "        \u001b[33mtitle\u001b[0m=\u001b[32m'\"login with google\" silently fails, no login occurs'\u001b[0m,\n",
       "        \u001b[33missue_url\u001b[0m=\u001b[32m'https://github.com/pypi/legacy/issues/492'\u001b[0m\n",
       "    \u001b[1m)\u001b[0m\n",
       "\u001b[1m]\u001b[0m\n"
      ]
     },
     "metadata": {},
     "output_type": "display_data"
    }
   ],
   "source": [
    "from rich import print\n",
    "print(list(get_github_issues(GITHUB_API, USERNAME)))"
   ]
  },
  {
   "cell_type": "code",
   "execution_count": null,
   "id": "3acc18dc-f9ce-44a9-9538-ceaa9685b3fe",
   "metadata": {},
   "outputs": [],
   "source": []
  }
 ],
 "metadata": {
  "kernelspec": {
   "display_name": "Python 3 (ipykernel)",
   "language": "python",
   "name": "python3"
  },
  "language_info": {
   "codemirror_mode": {
    "name": "ipython",
    "version": 3
   },
   "file_extension": ".py",
   "mimetype": "text/x-python",
   "name": "python",
   "nbconvert_exporter": "python",
   "pygments_lexer": "ipython3",
   "version": "3.13.2"
  }
 },
 "nbformat": 4,
 "nbformat_minor": 5
}
