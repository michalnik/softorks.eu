{
 "cells": [
  {
   "cell_type": "code",
   "execution_count": 1,
   "id": "ae6e5b7a-66e1-4d6f-ae2f-5ef0462252cd",
   "metadata": {
    "jupyter": {
     "is_executing": true
    }
   },
   "outputs": [],
   "source": [
    "import typing\n",
    "import httpx\n",
    "from pydantic import BaseModel\n",
    "\n",
    "\n",
    "class GithubIssue(BaseModel):\n",
    "    title: str\n",
    "    issue_url: str\n",
    "\n",
    "\n",
    "USERNAME = \"michalnik\"\n",
    "GITHUB_API = \"https://api.github.com\"\n",
    "\n",
    "\n",
    "def get_github_issues(api: str, username: str) -> typing.Iterable[GithubIssue]:\n",
    "    search_url = f\"{api}/search/issues\"\n",
    "    query_params = {\"q\": f\"commenter:{username}\", \"sort\": \"created\", \"order\": \"desc\"}\n",
    "    response = httpx.get(search_url, params=query_params, follow_redirects=True)\n",
    "    try:\n",
    "        for item in response.json()[\"items\"]:\n",
    "            yield GithubIssue(title=item[\"title\"], issue_url= item[\"html_url\"])\n",
    "    except Exception as exc:\n",
    "        print(f\"Something bad happened while reading data from github: {type(exc)} => {exc.args}\")\n",
    "        raise SystemError(\"Going down...\")"
   ]
  },
  {
   "cell_type": "code",
   "execution_count": 2,
   "id": "3acc18dc-f9ce-44a9-9538-ceaa9685b3fe",
   "metadata": {
    "jupyter": {
     "is_executing": true
    }
   },
   "outputs": [],
   "source": [
    "import os\n",
    "from functools import partial\n",
    "from asgiref.sync import sync_to_async\n",
    "\n",
    "import django\n",
    "from django.utils import timezone\n",
    "\n",
    "\n",
    "# set paths\n",
    "#     1) to locate project root to enable founding of django project and its applications\n",
    "#     2) to locate django project settings for django setup\n",
    "os.sys.path.insert(0, os.getenv(\"PROJECT_ROOT\"))\n",
    "os.environ.setdefault(\"DJANGO_SETTINGS_MODULE\", \"www.settings\")\n",
    "\n",
    "# startup of django\n",
    "django.setup()\n",
    "\n",
    "\n",
    "# import Activity model\n",
    "from activity.models import Activity\n",
    "\n",
    "\n",
    "# set initial data from github\n",
    "for issue in get_github_issues(GITHUB_API, USERNAME):\n",
    "    # we are in async context(natural for notebook) so we need to call sync_to_async for Django ORM\n",
    "    #    - because of sync_to_async signature it is required to create new sync function to call it later without any arguments\n",
    "    #    - functools.partial can do the work ...\n",
    "    create_activity = partial(Activity.objects.create, created_at=timezone.now(), title=issue.title, issue_url=issue.issue_url, comment_url=\"\")\n",
    "    await sync_to_async(create_activity, thread_sensitive=True)()\n"
   ]
  }
 ],
 "metadata": {
  "kernelspec": {
   "display_name": "Python 3 (ipykernel)",
   "language": "python",
   "name": "python3"
  },
  "language_info": {
   "codemirror_mode": {
    "name": "ipython",
    "version": 3
   },
   "file_extension": ".py",
   "mimetype": "text/x-python",
   "name": "python",
   "nbconvert_exporter": "python",
   "pygments_lexer": "ipython3",
   "version": "3.13.2"
  }
 },
 "nbformat": 4,
 "nbformat_minor": 5
}
